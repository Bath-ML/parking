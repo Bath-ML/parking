{
 "cells": [
  {
   "cell_type": "code",
   "execution_count": 1,
   "metadata": {
    "collapsed": true
   },
   "outputs": [],
   "source": [
    "import pickle\n",
    "import pandas as pd\n",
    "import numpy as np\n",
    "import random\n",
    "from matplotlib import pyplot as plt\n"
   ]
  },
  {
   "cell_type": "code",
   "execution_count": 2,
   "metadata": {
    "collapsed": true
   },
   "outputs": [],
   "source": [
    "%matplotlib notebook"
   ]
  },
  {
   "cell_type": "code",
   "execution_count": 38,
   "metadata": {
    "collapsed": false
   },
   "outputs": [],
   "source": [
    "results = pd.read_csv('/media/128G/bathhacked/BANES_Historic_Car_Park_Occupancy.csv', engine='c', parse_dates=['LastUpdate'], dayfirst=True)\n"
   ]
  },
  {
   "cell_type": "code",
   "execution_count": 45,
   "metadata": {
    "collapsed": false
   },
   "outputs": [],
   "source": [
    "results.reset_index()\n",
    "results['LastUpdate2'] = results['LastUpdate']\n",
    "results = results.set_index('LastUpdate')\n",
    "results = results.sort_index()"
   ]
  },
  {
   "cell_type": "code",
   "execution_count": 46,
   "metadata": {
    "collapsed": false
   },
   "outputs": [
    {
     "data": {
      "text/plain": [
       "<matplotlib.axes._subplots.AxesSubplot at 0x7f1a7e01ac88>"
      ]
     },
     "execution_count": 46,
     "metadata": {},
     "output_type": "execute_result"
    }
   ],
   "source": [
    "results[results['Name'] == \"Odd Down P+R\"]['Occupancy'].plot()"
   ]
  },
  {
   "cell_type": "code",
   "execution_count": 49,
   "metadata": {
    "collapsed": false
   },
   "outputs": [],
   "source": [
    "def hr_func(ts):\n",
    "    return ts.hour\n",
    "\n",
    "results['time_hour'] = results['LastUpdate2'].apply(hr_func)"
   ]
  },
  {
   "cell_type": "code",
   "execution_count": 48,
   "metadata": {
    "collapsed": false
   },
   "outputs": [],
   "source": [
    "def day_of_month(ts):\n",
    "    return ts.day\n",
    "\n",
    "results['day_of_month'] = results['LastUpdate2'].apply(day_of_month)"
   ]
  },
  {
   "cell_type": "code",
   "execution_count": 52,
   "metadata": {
    "collapsed": false
   },
   "outputs": [
    {
     "data": {
      "text/html": [
       "<div>\n",
       "<table border=\"1\" class=\"dataframe\">\n",
       "  <thead>\n",
       "    <tr style=\"text-align: right;\">\n",
       "      <th></th>\n",
       "      <th>Capacity</th>\n",
       "      <th>Occupancy</th>\n",
       "      <th>Percentage</th>\n",
       "      <th>Easting</th>\n",
       "      <th>Northing</th>\n",
       "      <th>day_of_month</th>\n",
       "      <th>time_hour</th>\n",
       "    </tr>\n",
       "    <tr>\n",
       "      <th>Name</th>\n",
       "      <th></th>\n",
       "      <th></th>\n",
       "      <th></th>\n",
       "      <th></th>\n",
       "      <th></th>\n",
       "      <th></th>\n",
       "      <th></th>\n",
       "    </tr>\n",
       "  </thead>\n",
       "  <tbody>\n",
       "    <tr>\n",
       "      <th>Avon Street CP</th>\n",
       "      <td>629.232718</td>\n",
       "      <td>127.287731</td>\n",
       "      <td>20.187477</td>\n",
       "      <td>374884.0</td>\n",
       "      <td>164469.0</td>\n",
       "      <td>12.0</td>\n",
       "      <td>11.660876</td>\n",
       "    </tr>\n",
       "    <tr>\n",
       "      <th>Charlotte Street CP</th>\n",
       "      <td>1056.000000</td>\n",
       "      <td>311.643561</td>\n",
       "      <td>29.499609</td>\n",
       "      <td>374445.0</td>\n",
       "      <td>165097.0</td>\n",
       "      <td>12.0</td>\n",
       "      <td>11.638711</td>\n",
       "    </tr>\n",
       "    <tr>\n",
       "      <th>Lansdown P+R</th>\n",
       "      <td>888.324786</td>\n",
       "      <td>147.463889</td>\n",
       "      <td>17.810897</td>\n",
       "      <td>373183.0</td>\n",
       "      <td>168104.0</td>\n",
       "      <td>12.0</td>\n",
       "      <td>11.682051</td>\n",
       "    </tr>\n",
       "    <tr>\n",
       "      <th>Newbridge P+R</th>\n",
       "      <td>666.022517</td>\n",
       "      <td>203.617411</td>\n",
       "      <td>30.517290</td>\n",
       "      <td>371853.0</td>\n",
       "      <td>165766.0</td>\n",
       "      <td>12.0</td>\n",
       "      <td>11.682147</td>\n",
       "    </tr>\n",
       "    <tr>\n",
       "      <th>Odd Down P+R</th>\n",
       "      <td>1252.000000</td>\n",
       "      <td>270.039348</td>\n",
       "      <td>21.549857</td>\n",
       "      <td>373363.0</td>\n",
       "      <td>161610.0</td>\n",
       "      <td>12.0</td>\n",
       "      <td>11.486800</td>\n",
       "    </tr>\n",
       "    <tr>\n",
       "      <th>Podium CP</th>\n",
       "      <td>521.000000</td>\n",
       "      <td>180.204827</td>\n",
       "      <td>34.090010</td>\n",
       "      <td>375109.0</td>\n",
       "      <td>165083.0</td>\n",
       "      <td>12.0</td>\n",
       "      <td>11.473014</td>\n",
       "    </tr>\n",
       "    <tr>\n",
       "      <th>SouthGate General CP</th>\n",
       "      <td>719.970268</td>\n",
       "      <td>223.368429</td>\n",
       "      <td>30.610728</td>\n",
       "      <td>375115.0</td>\n",
       "      <td>164421.0</td>\n",
       "      <td>12.0</td>\n",
       "      <td>11.506973</td>\n",
       "    </tr>\n",
       "    <tr>\n",
       "      <th>SouthGate Rail CP</th>\n",
       "      <td>140.000000</td>\n",
       "      <td>67.892107</td>\n",
       "      <td>48.092720</td>\n",
       "      <td>375083.0</td>\n",
       "      <td>164424.0</td>\n",
       "      <td>12.0</td>\n",
       "      <td>11.506973</td>\n",
       "    </tr>\n",
       "  </tbody>\n",
       "</table>\n",
       "</div>"
      ],
      "text/plain": [
       "                         Capacity   Occupancy  Percentage   Easting  Northing  \\\n",
       "Name                                                                            \n",
       "Avon Street CP         629.232718  127.287731   20.187477  374884.0  164469.0   \n",
       "Charlotte Street CP   1056.000000  311.643561   29.499609  374445.0  165097.0   \n",
       "Lansdown P+R           888.324786  147.463889   17.810897  373183.0  168104.0   \n",
       "Newbridge P+R          666.022517  203.617411   30.517290  371853.0  165766.0   \n",
       "Odd Down P+R          1252.000000  270.039348   21.549857  373363.0  161610.0   \n",
       "Podium CP              521.000000  180.204827   34.090010  375109.0  165083.0   \n",
       "SouthGate General CP   719.970268  223.368429   30.610728  375115.0  164421.0   \n",
       "SouthGate Rail CP      140.000000   67.892107   48.092720  375083.0  164424.0   \n",
       "\n",
       "                      day_of_month  time_hour  \n",
       "Name                                           \n",
       "Avon Street CP                12.0  11.660876  \n",
       "Charlotte Street CP           12.0  11.638711  \n",
       "Lansdown P+R                  12.0  11.682051  \n",
       "Newbridge P+R                 12.0  11.682147  \n",
       "Odd Down P+R                  12.0  11.486800  \n",
       "Podium CP                     12.0  11.473014  \n",
       "SouthGate General CP          12.0  11.506973  \n",
       "SouthGate Rail CP             12.0  11.506973  "
      ]
     },
     "execution_count": 52,
     "metadata": {},
     "output_type": "execute_result"
    }
   ],
   "source": [
    "results[results['day_of_month'] == 12.0].groupby('Name').mean()"
   ]
  },
  {
   "cell_type": "code",
   "execution_count": null,
   "metadata": {
    "collapsed": true
   },
   "outputs": [],
   "source": []
  }
 ],
 "metadata": {
  "kernelspec": {
   "display_name": "Python 3",
   "language": "python",
   "name": "python3"
  },
  "language_info": {
   "codemirror_mode": {
    "name": "ipython",
    "version": 3
   },
   "file_extension": ".py",
   "mimetype": "text/x-python",
   "name": "python",
   "nbconvert_exporter": "python",
   "pygments_lexer": "ipython3",
   "version": "3.5.2"
  }
 },
 "nbformat": 4,
 "nbformat_minor": 1
}
